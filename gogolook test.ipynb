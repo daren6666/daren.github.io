{
 "cells": [
  {
   "cell_type": "code",
   "execution_count": 29,
   "id": "6a255373",
   "metadata": {},
   "outputs": [
    {
     "name": "stdout",
     "output_type": "stream",
     "text": [
      "產品價格不是1499是：$999\n"
     ]
    }
   ],
   "source": [
    "from selenium import webdriver\n",
    "from selenium.webdriver.common.by import By\n",
    "from selenium.webdriver.support.ui import WebDriverWait\n",
    "from selenium.webdriver.support import expected_conditions as EC\n",
    "\n",
    "\n",
    "product_url = \"https://24h.pchome.com.tw/prod/DMAE7S-A900B3RYW\"\n",
    "driver = webdriver.Chrome()\n",
    "driver.get(product_url)\n",
    "\n",
    "price_element = WebDriverWait(driver, 10).until(\n",
    "    EC.presence_of_element_located((By.CLASS_NAME, 'o-prodPrice__price'))\n",
    ")\n",
    "\n",
    "price = price_element.text\n",
    "print(f\"產品價格不是1499是：{price}\")\n",
    "\n",
    "\n",
    "spec_element = driver.find_element(By.XPATH, '//div[@class=\"c-prodSpecs\"]')\n",
    "spec_text = spec_element.text\n",
    "\n",
    "screenshot_path = \"screenshot.png\"\n",
    "spec_element.screenshot(screenshot_path)\n",
    "\n",
    "driver.quit()\n"
   ]
  },
  {
   "cell_type": "code",
   "execution_count": null,
   "id": "b7bbc57a",
   "metadata": {},
   "outputs": [],
   "source": []
  }
 ],
 "metadata": {
  "kernelspec": {
   "display_name": "Python 3 (ipykernel)",
   "language": "python",
   "name": "python3"
  },
  "language_info": {
   "codemirror_mode": {
    "name": "ipython",
    "version": 3
   },
   "file_extension": ".py",
   "mimetype": "text/x-python",
   "name": "python",
   "nbconvert_exporter": "python",
   "pygments_lexer": "ipython3",
   "version": "3.11.5"
  }
 },
 "nbformat": 4,
 "nbformat_minor": 5
}
